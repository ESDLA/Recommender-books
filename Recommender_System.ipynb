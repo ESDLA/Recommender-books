{
 "cells": [
  {
   "cell_type": "code",
   "execution_count": 1,
   "metadata": {},
   "outputs": [],
   "source": [
    "#Se importan librerias a usar\n",
    "\n",
    "import pandas as pd\n",
    "import numpy as np\n",
    "from sklearn.metrics.pairwise import cosine_similarity"
   ]
  },
  {
   "cell_type": "code",
   "execution_count": 2,
   "metadata": {},
   "outputs": [],
   "source": [
    "#Se cargan los CSV\n",
    "\n",
    "df_books = pd.read_csv(\"data\\\\books.csv\")\n",
    "df_book_tags = pd.read_csv(\"data\\\\book_tags.csv\")\n",
    "df_ratings = pd.read_csv(\"data\\\\ratings.csv\")\n",
    "df_tags =  pd.read_csv(\"data\\\\tags.csv\")\n",
    "df_to_read = pd.read_csv(\"data\\\\to_read.csv\")"
   ]
  },
  {
   "cell_type": "code",
   "execution_count": 3,
   "metadata": {},
   "outputs": [
    {
     "data": {
      "text/plain": [
       "Index(['id', 'book_id', 'best_book_id', 'work_id', 'books_count', 'isbn',\n",
       "       'isbn13', 'authors', 'original_publication_year', 'original_title',\n",
       "       'title', 'language_code', 'average_rating', 'ratings_count',\n",
       "       'work_ratings_count', 'work_text_reviews_count', 'ratings_1',\n",
       "       'ratings_2', 'ratings_3', 'ratings_4', 'ratings_5', 'image_url',\n",
       "       'small_image_url'],\n",
       "      dtype='object')"
      ]
     },
     "execution_count": 3,
     "metadata": {},
     "output_type": "execute_result"
    }
   ],
   "source": [
    "#Variables del DF books\n",
    "\n",
    "df_books.columns"
   ]
  },
  {
   "cell_type": "code",
   "execution_count": 4,
   "metadata": {},
   "outputs": [
    {
     "data": {
      "text/plain": [
       "Index(['goodreads_book_id', 'tag_id', 'count'], dtype='object')"
      ]
     },
     "execution_count": 4,
     "metadata": {},
     "output_type": "execute_result"
    }
   ],
   "source": [
    "#Variables del DF book_tags\n",
    "\n",
    "df_book_tags.columns"
   ]
  },
  {
   "cell_type": "code",
   "execution_count": 9,
   "metadata": {},
   "outputs": [
    {
     "data": {
      "text/html": [
       "<div>\n",
       "<style scoped>\n",
       "    .dataframe tbody tr th:only-of-type {\n",
       "        vertical-align: middle;\n",
       "    }\n",
       "\n",
       "    .dataframe tbody tr th {\n",
       "        vertical-align: top;\n",
       "    }\n",
       "\n",
       "    .dataframe thead th {\n",
       "        text-align: right;\n",
       "    }\n",
       "</style>\n",
       "<table border=\"1\" class=\"dataframe\">\n",
       "  <thead>\n",
       "    <tr style=\"text-align: right;\">\n",
       "      <th></th>\n",
       "      <th>book_id</th>\n",
       "      <th>original_title</th>\n",
       "    </tr>\n",
       "  </thead>\n",
       "  <tbody>\n",
       "    <tr>\n",
       "      <th>0</th>\n",
       "      <td>2767052</td>\n",
       "      <td>The Hunger Games</td>\n",
       "    </tr>\n",
       "    <tr>\n",
       "      <th>1</th>\n",
       "      <td>3</td>\n",
       "      <td>Harry Potter and the Philosopher's Stone</td>\n",
       "    </tr>\n",
       "    <tr>\n",
       "      <th>2</th>\n",
       "      <td>41865</td>\n",
       "      <td>Twilight</td>\n",
       "    </tr>\n",
       "    <tr>\n",
       "      <th>3</th>\n",
       "      <td>2657</td>\n",
       "      <td>To Kill a Mockingbird</td>\n",
       "    </tr>\n",
       "    <tr>\n",
       "      <th>4</th>\n",
       "      <td>4671</td>\n",
       "      <td>The Great Gatsby</td>\n",
       "    </tr>\n",
       "  </tbody>\n",
       "</table>\n",
       "</div>"
      ],
      "text/plain": [
       "   book_id                            original_title\n",
       "0  2767052                          The Hunger Games\n",
       "1        3  Harry Potter and the Philosopher's Stone\n",
       "2    41865                                  Twilight\n",
       "3     2657                     To Kill a Mockingbird\n",
       "4     4671                          The Great Gatsby"
      ]
     },
     "execution_count": 9,
     "metadata": {},
     "output_type": "execute_result"
    }
   ],
   "source": [
    "df_books[['book_id','original_title']].head()"
   ]
  },
  {
   "cell_type": "code",
   "execution_count": 9,
   "metadata": {},
   "outputs": [
    {
     "data": {
      "text/plain": [
       "Index(['book_id', 'user_id', 'rating'], dtype='object')"
      ]
     },
     "execution_count": 9,
     "metadata": {},
     "output_type": "execute_result"
    }
   ],
   "source": [
    "#Variables del DF ratings\n",
    "\n",
    "df_ratings.columns"
   ]
  },
  {
   "cell_type": "code",
   "execution_count": 10,
   "metadata": {},
   "outputs": [
    {
     "data": {
      "text/plain": [
       "Index(['tag_id', 'tag_name'], dtype='object')"
      ]
     },
     "execution_count": 10,
     "metadata": {},
     "output_type": "execute_result"
    }
   ],
   "source": [
    "#Variables del DF df_tags\n",
    "\n",
    "df_tags.columns"
   ]
  },
  {
   "cell_type": "code",
   "execution_count": 32,
   "metadata": {},
   "outputs": [],
   "source": [
    "df_matrix = df_ratings.loc[df_ratings.user_id <= 1000].pivot_table(index=['user_id'],columns='book_id',values='rating',fill_value=0)"
   ]
  },
  {
   "cell_type": "code",
   "execution_count": 65,
   "metadata": {},
   "outputs": [],
   "source": [
    "def User_User_CF(reviews):\n",
    "    \"\"\"\n",
    "    Obtains the RMSE error in the user-user collaborative \n",
    "    filtering algorithms using all the similar users.\n",
    "    \n",
    "    :param: reviews (numpy.ndarray) : The dense user-item matrix.\n",
    "    \n",
    "    :returns: RMSE of predictions\n",
    "    :rvalue: float\n",
    "    \"\"\"\n",
    "    \n",
    "    # Get the user-user similarity matrix\n",
    "    user_user_similarity = cosine_similarity(reviews)\n",
    "    \n",
    "    sqdiffs = 0\n",
    "    num_preds = 0\n",
    "\n",
    "    # to protect against divide by zero issues\n",
    "    eps = 1e-6\n",
    "\n",
    "    cnt_no_sims = 0\n",
    "    # loop over the users\n",
    "    for user_i, u in enumerate(reviews):\n",
    "        \n",
    "        # products user HAS rated\n",
    "        i_rated = np.where(u>0)[0]\n",
    "    \n",
    "        # Get the average rating for this user\n",
    "        user_avg =  i_rated.mean()\n",
    "        \n",
    "        # loop over all the products that each user reviewed\n",
    "        # Note: these are all the non-zero entries in the row\n",
    "        for i_product in i_rated:\n",
    "        \n",
    "            # Get all the users (indices) that\n",
    "            # have also reviewed this product.\n",
    "            # Note: This also includes the user of interest!\n",
    "            i_has_rated = np.where(reviews.iloc[:, i_product])[0]\n",
    "        \n",
    "            # remove the user (indices) of interest \n",
    "            # from this column\n",
    "            i_remove = np.argmin(abs(i_has_rated - user_i))\n",
    "            i_others_have_rated = np.delete(i_has_rated, i_remove)\n",
    "        \n",
    "            # Get the ratings for product by the similar users,\n",
    "            ratings = reviews.iloc[i_others_have_rated, \n",
    "                              i_product]\n",
    "                    \n",
    "            ratings -= user_avg\n",
    "               \n",
    "            # get the cosine similarity between the users\n",
    "            # and other users.\n",
    "            similarities = user_user_similarity[user_i,i_others_have_rated]\n",
    "            \n",
    "            # denominator of user_i's produdct prediction\n",
    "            norm = np.sum(similarities)\n",
    "            if norm==0:\n",
    "                cnt_no_sims += 1\n",
    "                norm = eps\n",
    "            \n",
    "            # prediction of user u on product i: p_{u,i}\n",
    "            predicted_rating = user_avg + np.sum(np.multiply(\n",
    "                                            ratings.T,\n",
    "                                            similarities))/norm\n",
    "            \n",
    "            # actual rating by user u on product i\n",
    "            actual_rating = reviews.iloc[user_i, i_product]\n",
    "            \n",
    "        # get the L2 difference in predicted and actual\n",
    "        # rating for the user\n",
    "        sqdiffs += pow(predicted_rating - actual_rating, 2.0)\n",
    "        num_preds+=1\n",
    "    \n",
    "    # get the average of all the predictions\n",
    "    rmse_cossim = np.sqrt(sqdiffs/num_preds)\n",
    "    return rmse_cossim"
   ]
  },
  {
   "cell_type": "code",
   "execution_count": 66,
   "metadata": {},
   "outputs": [],
   "source": [
    "user_all_rmse = User_User_CF(df_matrix.transpose())"
   ]
  },
  {
   "cell_type": "code",
   "execution_count": 75,
   "metadata": {},
   "outputs": [],
   "source": [
    "def User_User_CF_TopN(reviews, N):\n",
    "    \"\"\"\n",
    "    Obtains the RMSE error in the user-user collaborative \n",
    "    filtering algorithms using the top N most similar users.\n",
    "    \n",
    "    :param: reviews (numpy.ndarray) : The dense user-item matrix.\n",
    "    :param: N (int) : The number of the most similar users.\n",
    "    \n",
    "    :returns: RMSE of predictions\n",
    "    :rvalue: float\n",
    "    \"\"\"\n",
    "    \n",
    "    # Get the user-user similarity matrix\n",
    "    user_user_similarity = cosine_similarity(reviews)\n",
    " \n",
    "    sqdiffs = 0\n",
    "    num_preds = 0\n",
    "\n",
    "    # to protect against divide by zero issues\n",
    "    eps = 1e-6\n",
    "\n",
    "    cnt_no_sims = 0\n",
    "    # loop over the users\n",
    "    for user_i, u in enumerate(reviews):\n",
    "        \n",
    "        # products user HAS rated\n",
    "        i_rated = np.where(u>0)[0]\n",
    "    \n",
    "        # Get the average rating for this user\n",
    "        user_avg = i_rated.mean()\n",
    "        \n",
    "        # loop over all the products that each user reviewed\n",
    "        # Note: these are all the non-zero entries in the row\n",
    "        for i_product in i_rated:\n",
    "        \n",
    "            # Get all the users (indices) that\n",
    "            # have also reviewed this product.\n",
    "            # Note: This also includes the user of interest!\n",
    "            i_has_rated = np.where(reviews.iloc[:, i_product]>0)[0]\n",
    "        \n",
    "            # remove the user (indices) of interest \n",
    "            # from this column\n",
    "            i_remove = np.argmin(abs(i_has_rated - user_i))\n",
    "            i_others_have_rated = np.delete(i_has_rated, i_remove)\n",
    "        \n",
    "            # Get the ratings for product by the similar users,\n",
    "            ratings = reviews.iloc[i_others_have_rated, \n",
    "                              i_product]\n",
    "                    \n",
    "            ratings -= user_avg\n",
    "               \n",
    "            # get the cosine similarity between the users\n",
    "            # and other users.\n",
    "            sims = user_user_similarity[user_i,\n",
    "                                        i_others_have_rated]\n",
    "            \n",
    "            #choose top N most similar users\n",
    "            most_similar_users = sims[np.argsort(sims*-1)][:N]\n",
    "            most_similar_ratings = ratings.iloc[np.argsort(sims*-1)][:N]\n",
    "            \n",
    "            # denominator of user_i's produdct prediction\n",
    "            norm = np.sum(most_similar_users)\n",
    "            if norm==0:\n",
    "                cnt_no_sims += 1\n",
    "                norm = eps\n",
    "            \n",
    "            # prediction of user u on product i: p_{u,i}\n",
    "            predicted_rating = user_avg + np.sum(np.multiply(\n",
    "                                            most_similar_ratings.T,\n",
    "                                            most_similar_users))/norm\n",
    "            \n",
    "            # actual rating by user u on product i\n",
    "            actual_rating = reviews.iloc[user_i, i_product]\n",
    "        \n",
    "        # get the L2 difference in predicted and actual\n",
    "        # rating for the user\n",
    "        sqdiffs += pow(predicted_rating - actual_rating, 2.0)\n",
    "        num_preds+=1\n",
    "    \n",
    "    # get the average of all the predictions\n",
    "    rmse_cossim = np.sqrt(sqdiffs/num_preds)\n",
    "    return rmse_cossim"
   ]
  },
  {
   "cell_type": "code",
   "execution_count": 104,
   "metadata": {},
   "outputs": [],
   "source": [
    "N_users = [890]\n",
    "top_N   = [User_User_CF_TopN(df_matrix.transpose(), i) for i in N_users]"
   ]
  },
  {
   "cell_type": "code",
   "execution_count": 84,
   "metadata": {},
   "outputs": [],
   "source": [
    "user_user_similarity = cosine_similarity(df_matrix)"
   ]
  },
  {
   "cell_type": "code",
   "execution_count": 105,
   "metadata": {},
   "outputs": [
    {
     "data": {
      "text/plain": [
       "[0.01484066510684103]"
      ]
     },
     "execution_count": 105,
     "metadata": {},
     "output_type": "execute_result"
    }
   ],
   "source": [
    "top_N"
   ]
  },
  {
   "cell_type": "code",
   "execution_count": 111,
   "metadata": {},
   "outputs": [
    {
     "ename": "TypeError",
     "evalue": "'tuple' object is not callable",
     "output_type": "error",
     "traceback": [
      "\u001b[1;31m---------------------------------------------------------------------------\u001b[0m",
      "\u001b[1;31mTypeError\u001b[0m                                 Traceback (most recent call last)",
      "\u001b[1;32m<ipython-input-111-430e4eb5f9ad>\u001b[0m in \u001b[0;36m<module>\u001b[1;34m\u001b[0m\n\u001b[1;32m----> 1\u001b[1;33m \u001b[0mdf_matrix\u001b[0m\u001b[1;33m.\u001b[0m\u001b[0mshape\u001b[0m\u001b[1;33m(\u001b[0m\u001b[1;33m)\u001b[0m\u001b[1;33m\u001b[0m\u001b[1;33m\u001b[0m\u001b[0m\n\u001b[0m",
      "\u001b[1;31mTypeError\u001b[0m: 'tuple' object is not callable"
     ]
    }
   ],
   "source": [
    "data.matrix(frame, rownames.force = NA)"
   ]
  },
  {
   "cell_type": "code",
   "execution_count": null,
   "metadata": {},
   "outputs": [],
   "source": [
    ".toarray()"
   ]
  }
 ],
 "metadata": {
  "kernelspec": {
   "display_name": "Python 3",
   "language": "python",
   "name": "python3"
  },
  "language_info": {
   "codemirror_mode": {
    "name": "ipython",
    "version": 3
   },
   "file_extension": ".py",
   "mimetype": "text/x-python",
   "name": "python",
   "nbconvert_exporter": "python",
   "pygments_lexer": "ipython3",
   "version": "3.7.1"
  }
 },
 "nbformat": 4,
 "nbformat_minor": 2
}
